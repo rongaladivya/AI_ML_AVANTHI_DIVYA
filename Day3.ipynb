{
  "nbformat": 4,
  "nbformat_minor": 0,
  "metadata": {
    "colab": {
      "provenance": [],
      "authorship_tag": "ABX9TyN8KnaXX4gMCb0/KXIp+ZWq",
      "include_colab_link": true
    },
    "kernelspec": {
      "name": "python3",
      "display_name": "Python 3"
    },
    "language_info": {
      "name": "python"
    }
  },
  "cells": [
    {
      "cell_type": "markdown",
      "metadata": {
        "id": "view-in-github",
        "colab_type": "text"
      },
      "source": [
        "<a href=\"https://colab.research.google.com/github/rongaladivya/AI_ML_AVANTHI_DIVYA/blob/main/Day3.ipynb\" target=\"_parent\"><img src=\"https://colab.research.google.com/assets/colab-badge.svg\" alt=\"Open In Colab\"/></a>"
      ]
    },
    {
      "cell_type": "code",
      "execution_count": 5,
      "metadata": {
        "colab": {
          "base_uri": "https://localhost:8080/"
        },
        "id": "rVFunfxPrnly",
        "outputId": "d73c37f1-d68d-4672-a2fe-8416f5402f65"
      },
      "outputs": [
        {
          "output_type": "stream",
          "name": "stdout",
          "text": [
            "dairy milk\n",
            "Snickers\n",
            "milkybar\n",
            "KitKat\n"
          ]
        }
      ],
      "source": [
        "#functions\n",
        "def chocolates():\n",
        "  print(\"dairy milk\")\n",
        "  print(\"Snickers\")\n",
        "  print(\"milkybar\")\n",
        "chocolates()\n",
        "print(\"KitKat\")"
      ]
    },
    {
      "cell_type": "code",
      "source": [
        "#both a and b can be used\n",
        "def number(a):\n",
        "  if a>=5:\n",
        "     print(\"Good\")\n",
        "  else:\n",
        "     print(\"Bad\")\n",
        "\n",
        "b=5\n",
        "number(b)\n",
        "b=10\n",
        "number(b)\n",
        "b=1\n",
        "number(b)"
      ],
      "metadata": {
        "colab": {
          "base_uri": "https://localhost:8080/"
        },
        "id": "RmOfo58ktbcU",
        "outputId": "cfd3184a-653b-4fbc-b170-fb51162d4608"
      },
      "execution_count": 17,
      "outputs": [
        {
          "output_type": "stream",
          "name": "stdout",
          "text": [
            "Good\n",
            "Good\n",
            "Bad\n"
          ]
        }
      ]
    },
    {
      "cell_type": "code",
      "source": [
        "#parameters passing\n",
        "def number (a,b):\n",
        "  print(a)\n",
        "  print(b)\n",
        "a=5\n",
        "b=6\n",
        "number(a,b)"
      ],
      "metadata": {
        "colab": {
          "base_uri": "https://localhost:8080/"
        },
        "id": "gGjKaGK_wrxD",
        "outputId": "a7b5f0e4-90e3-4b7b-a2dc-a29c3abd2888"
      },
      "execution_count": 18,
      "outputs": [
        {
          "output_type": "stream",
          "name": "stdout",
          "text": [
            "5\n",
            "6\n"
          ]
        }
      ]
    },
    {
      "cell_type": "code",
      "source": [
        "#write a function to calculate the grade of a student based on their marks\n",
        "def grade():\n",
        "   marks =int(input (\"enter the marks\"))\n",
        "   if marks>=90 and marks<=100:\n",
        "     print(\"0\")\n",
        "   elif marks>=80 and marks<=89:\n",
        "     print(\"A+\")\n",
        "   elif marks>=70 and marks<=79:\n",
        "     print(\"B+\")\n",
        "   elif marks>=60 and marks<=69:\n",
        "     print(\"C+\")\n",
        "   elif marks>=50 and marks<=59:\n",
        "     print(\"D\")\n",
        "   else:\n",
        "     print(\"fail\")\n",
        "for i in range(10):\n",
        "   grade()"
      ],
      "metadata": {
        "id": "A5WLMH1NyPh0"
      },
      "execution_count": null,
      "outputs": []
    }
  ]
}